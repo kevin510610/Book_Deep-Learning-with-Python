{
  "nbformat": 4,
  "nbformat_minor": 0,
  "metadata": {
    "colab": {
      "name": "Ch02.ipynb",
      "version": "0.3.2",
      "provenance": []
    },
    "kernelspec": {
      "name": "python388jvsc74a57bd01be61a1583a2cb2b13e440a2aaa1981b12c2212d6adb327f2a8e80ed33dd9191",
      "display_name": "Python 3.8.8 64-bit ('datasci': conda)"
    },
    "accelerator": "TPU"
  },
  "cells": [
    {
      "metadata": {
        "id": "OmAT4DpvlPgw",
        "colab_type": "text"
      },
      "cell_type": "markdown",
      "source": [
        "# 2-1 初探神經網路"
      ]
    },
    {
      "metadata": {
        "id": "zJ6GNfwkIv2E",
        "colab_type": "code",
        "outputId": "18c1cc01-1af3-40a1-b7f9-226ca9f27079",
        "colab": {
          "base_uri": "https://localhost:8080/",
          "height": 51
        }
      },
      "cell_type": "code",
      "source": [
        "import os\n",
        " \n",
        "os.environ[\"KERAS_BACKEND\"] = \"plaidml.keras.backend\"\n",
        "import keras\n",
        "keras.__version__"
      ],
      "execution_count": 1,
      "outputs": [
        {
          "output_type": "stream",
          "name": "stderr",
          "text": [
            "Using plaidml.keras.backend backend.\n"
          ]
        },
        {
          "output_type": "execute_result",
          "data": {
            "text/plain": [
              "'2.2.4'"
            ]
          },
          "metadata": {},
          "execution_count": 1
        }
      ]
    },
    {
      "metadata": {
        "id": "xcZX2qTjKvRj",
        "colab_type": "text"
      },
      "cell_type": "markdown",
      "source": [
        "### 程式 2.1 在 Keras 中載入 MNIST 資料集"
      ]
    },
    {
      "metadata": {
        "id": "bQPDMgWgKtg0",
        "colab_type": "code",
        "colab": {}
      },
      "cell_type": "code",
      "source": [
        "from keras.datasets import mnist  #從 keras 的 datasets 匯入 mnist 資料集\n",
        "\n",
        "(train_images, train_labels), (test_images, test_labels) = mnist.load_data()\n",
        "#用 mnist.load_data() 取得 mnist 資料集, 並存 (打包) 成 tuple (Python 語法是：只要有逗號, 沒有小括號也會被看成是 tuple, 所以 (train_images, train_labels), (test_images, test_labels) 等同於 ((train_images, train_labels), (test_images, test_labels)), 此 tuple 又內含兩個 tuple"
      ],
      "execution_count": 2,
      "outputs": []
    },
    {
      "metadata": {
        "id": "aYCdOXtWlZtv",
        "colab_type": "text"
      },
      "cell_type": "markdown",
      "source": [
        "### 程式 2.2 了解訓練資料"
      ]
    },
    {
      "metadata": {
        "id": "2gDuo5GLLgpk",
        "colab_type": "code",
        "outputId": "5c154881-5cc2-4e97-f981-3a33fe911acc",
        "colab": {
          "base_uri": "https://localhost:8080/",
          "height": 34
        }
      },
      "cell_type": "code",
      "source": [
        "train_images.shape  #train_image 為 NumPy 的 ndarray 物件\n",
        "                    #train_image 的 shape 屬性為 3 軸, 60000 維 x28 維 x28 維"
      ],
      "execution_count": 3,
      "outputs": [
        {
          "output_type": "execute_result",
          "data": {
            "text/plain": [
              "(60000, 28, 28)"
            ]
          },
          "metadata": {},
          "execution_count": 3
        }
      ]
    },
    {
      "metadata": {
        "id": "f1q0lg1rLhlq",
        "colab_type": "code",
        "outputId": "6668555b-0354-4249-c69d-c4e82a591b92",
        "colab": {
          "base_uri": "https://localhost:8080/",
          "height": 34
        }
      },
      "cell_type": "code",
      "source": [
        "len(train_labels)\n",
        "                    #標籤也有 60000 個"
      ],
      "execution_count": 4,
      "outputs": [
        {
          "output_type": "execute_result",
          "data": {
            "text/plain": [
              "60000"
            ]
          },
          "metadata": {},
          "execution_count": 4
        }
      ]
    },
    {
      "metadata": {
        "id": "lZUUzaFlLjvM",
        "colab_type": "code",
        "outputId": "42941a50-cd08-4593-b9dc-5490018418f4",
        "colab": {
          "base_uri": "https://localhost:8080/",
          "height": 34
        }
      },
      "cell_type": "code",
      "source": [
        "train_labels\n",
        "                    #標籤是 0-9 之間的數字, 資料型別為 uint8"
      ],
      "execution_count": 5,
      "outputs": [
        {
          "output_type": "execute_result",
          "data": {
            "text/plain": [
              "array([5, 0, 4, ..., 5, 6, 8], dtype=uint8)"
            ]
          },
          "metadata": {},
          "execution_count": 5
        }
      ]
    },
    {
      "metadata": {
        "id": "SHTUnnltlmif",
        "colab_type": "text"
      },
      "cell_type": "markdown",
      "source": [
        "### 程式 2.3 了解測試資料"
      ]
    },
    {
      "metadata": {
        "id": "WT5l52d_Lnws",
        "colab_type": "code",
        "outputId": "b4b8433c-e5cc-473c-d3c4-2a3f063539a0",
        "colab": {
          "base_uri": "https://localhost:8080/",
          "height": 34
        }
      },
      "cell_type": "code",
      "source": [
        "test_images.shape  \n",
        "                    #shape 為 3 軸, 10000 維 x28 維 x28 維"
      ],
      "execution_count": 6,
      "outputs": [
        {
          "output_type": "execute_result",
          "data": {
            "text/plain": [
              "(10000, 28, 28)"
            ]
          },
          "metadata": {},
          "execution_count": 6
        }
      ]
    },
    {
      "metadata": {
        "id": "3mzUFbbhLqCV",
        "colab_type": "code",
        "outputId": "2ea87956-6730-4556-babd-265325d77886",
        "colab": {
          "base_uri": "https://localhost:8080/",
          "height": 34
        }
      },
      "cell_type": "code",
      "source": [
        "len(test_labels)\n",
        "                    #標籤也有 10000 個"
      ],
      "execution_count": 7,
      "outputs": [
        {
          "output_type": "execute_result",
          "data": {
            "text/plain": [
              "10000"
            ]
          },
          "metadata": {},
          "execution_count": 7
        }
      ]
    },
    {
      "metadata": {
        "id": "9d90IS-UlxJG",
        "colab_type": "code",
        "outputId": "34c2c6c1-1c9a-421e-c8c9-5dcf044e097a",
        "colab": {
          "base_uri": "https://localhost:8080/",
          "height": 34
        }
      },
      "cell_type": "code",
      "source": [
        "test_labels\n",
        "                    #標籤是 0-9 之間的數字, 資料型別為 uint8"
      ],
      "execution_count": 8,
      "outputs": [
        {
          "output_type": "execute_result",
          "data": {
            "text/plain": [
              "array([7, 2, 1, ..., 4, 5, 6], dtype=uint8)"
            ]
          },
          "metadata": {},
          "execution_count": 8
        }
      ]
    },
    {
      "metadata": {
        "id": "4f1pp2E2l2_W",
        "colab_type": "text"
      },
      "cell_type": "markdown",
      "source": [
        "### 程式 2.4 神經網路架構"
      ]
    },
    {
      "metadata": {
        "id": "5GSN08toLrjJ",
        "colab_type": "code",
        "outputId": "87a4e93f-880b-4a97-87aa-826b3bd82d2e",
        "colab": {
          "base_uri": "https://localhost:8080/",
          "height": 88
        }
      },
      "cell_type": "code",
      "source": [
        "from keras import models\n",
        "from keras import layers\n",
        "\n",
        "network = models.Sequential()\n",
        "network.add(layers.Dense(512, activation='relu', input_shape=(28 * 28,)))\n",
        "network.add(layers.Dense(10, activation='softmax'))"
      ],
      "execution_count": 9,
      "outputs": [
        {
          "output_type": "stream",
          "name": "stderr",
          "text": [
            "INFO:plaidml:Opening device \"metal_amd_radeon_pro_5300m.0\"\n"
          ]
        }
      ]
    },
    {
      "metadata": {
        "id": "ApZVbhGCmGzP",
        "colab_type": "text"
      },
      "cell_type": "markdown",
      "source": [
        "### 程式 2.5 編譯步驟"
      ]
    },
    {
      "metadata": {
        "id": "0DT06tlgLtRe",
        "colab_type": "code",
        "colab": {}
      },
      "cell_type": "code",
      "source": [
        "network.compile(optimizer='rmsprop',\n",
        "                loss='categorical_crossentropy',\n",
        "                metrics=['accuracy'])"
      ],
      "execution_count": 10,
      "outputs": []
    },
    {
      "metadata": {
        "id": "JOJmk8BhmXV5",
        "colab_type": "text"
      },
      "cell_type": "markdown",
      "source": [
        "### 程式 2.6 準備圖片資料"
      ]
    },
    {
      "metadata": {
        "id": "___wIR7FdDlg",
        "colab_type": "code",
        "colab": {}
      },
      "cell_type": "code",
      "source": [
        "train_images = train_images.reshape((60000, 28 * 28))  #reshape 是 NumPy 陣列的 method\n",
        "train_images = train_images.astype('float32') / 255\n",
        "\n",
        "test_images = test_images.reshape((10000, 28 * 28))\n",
        "test_images = test_images.astype('float32') / 255"
      ],
      "execution_count": 11,
      "outputs": []
    },
    {
      "metadata": {
        "id": "atq09Fc_mXt3",
        "colab_type": "text"
      },
      "cell_type": "markdown",
      "source": [
        "### 程式 2.7 準備標籤"
      ]
    },
    {
      "metadata": {
        "id": "UllKeWFfdDjB",
        "colab_type": "code",
        "colab": {}
      },
      "cell_type": "code",
      "source": [
        "from keras.utils import to_categorical\n",
        "\n",
        "train_labels = to_categorical(train_labels)\n",
        "test_labels = to_categorical(test_labels)"
      ],
      "execution_count": 12,
      "outputs": []
    },
    {
      "metadata": {
        "id": "2KvlgNftmYO3",
        "colab_type": "text"
      },
      "cell_type": "markdown",
      "source": [
        "### 程式 2.8 檢驗神經網路模型"
      ]
    },
    {
      "metadata": {
        "id": "VhVjqp__dDgz",
        "colab_type": "code",
        "outputId": "2d09cc54-72e4-48ff-e6d1-56b8c43f8f52",
        "colab": {
          "base_uri": "https://localhost:8080/",
          "height": 275
        }
      },
      "cell_type": "code",
      "source": [
        "network.fit(train_images, train_labels, epochs=5, batch_size=128)"
      ],
      "execution_count": 13,
      "outputs": [
        {
          "output_type": "stream",
          "name": "stdout",
          "text": [
            "Epoch 1/5\n",
            "60000/60000 [==============================] - 2s 36us/step - loss: 0.2561 - acc: 0.9259\n",
            "Epoch 2/5\n",
            "60000/60000 [==============================] - 2s 32us/step - loss: 0.1040 - acc: 0.9692\n",
            "Epoch 3/5\n",
            "60000/60000 [==============================] - 2s 31us/step - loss: 0.0682 - acc: 0.9796\n",
            "Epoch 4/5\n",
            "60000/60000 [==============================] - 2s 32us/step - loss: 0.0500 - acc: 0.9847\n",
            "Epoch 5/5\n",
            "60000/60000 [==============================] - 2s 35us/step - loss: 0.0371 - acc: 0.9889\n"
          ]
        },
        {
          "output_type": "execute_result",
          "data": {
            "text/plain": [
              "<keras.callbacks.History at 0x7fd7ce295fa0>"
            ]
          },
          "metadata": {},
          "execution_count": 13
        }
      ]
    },
    {
      "metadata": {
        "id": "m_MhA-q8mY0f",
        "colab_type": "text"
      },
      "cell_type": "markdown",
      "source": [
        "### 程式 2.9 評估測試資料的表現"
      ]
    },
    {
      "metadata": {
        "id": "fTddJOzndDeA",
        "colab_type": "code",
        "outputId": "12ec00a0-af3c-4db9-ed50-4b42cd9437c9",
        "colab": {
          "base_uri": "https://localhost:8080/",
          "height": 51
        }
      },
      "cell_type": "code",
      "source": [
        "test_loss, test_acc = network.evaluate(test_images, test_labels)\n",
        "print('test_acc:', test_acc)\n",
        "print('test_loss:', test_loss)\n"
      ],
      "execution_count": 14,
      "outputs": [
        {
          "output_type": "stream",
          "name": "stdout",
          "text": [
            "10000/10000 [==============================] - 1s 86us/step\n",
            "test_acc: 0.9786\n",
            "test_loss: 0.07043689812943339\n"
          ]
        }
      ]
    },
    {
      "metadata": {
        "id": "5t7uUjFInX4O",
        "colab_type": "text"
      },
      "cell_type": "markdown",
      "source": [
        "# 2-2 神經網路的資料表示法"
      ]
    },
    {
      "metadata": {
        "id": "1SZpoVV3tRdh",
        "colab_type": "text"
      },
      "cell_type": "markdown",
      "source": [
        "## 2-2-1 純量 (0D 張量)"
      ]
    },
    {
      "metadata": {
        "id": "YhpPePfQsc_e",
        "colab_type": "code",
        "outputId": "afb22203-7f26-4ecb-e31c-5d453d6d30bf",
        "colab": {
          "base_uri": "https://localhost:8080/",
          "height": 34
        }
      },
      "cell_type": "code",
      "source": [
        "import numpy as np\n",
        "x = np.array(12)      #用 12 這個數值去建一個張量\n",
        "x                     #看看張量的內容\n",
        "                      #原來 Numpy 的 array 就是 tensor"
      ],
      "execution_count": 15,
      "outputs": [
        {
          "output_type": "execute_result",
          "data": {
            "text/plain": [
              "array(12)"
            ]
          },
          "metadata": {},
          "execution_count": 15
        }
      ]
    },
    {
      "metadata": {
        "id": "-OaapxgHsc0l",
        "colab_type": "code",
        "outputId": "bd60569c-5a80-46b8-8400-6586e14624fa",
        "colab": {
          "base_uri": "https://localhost:8080/",
          "height": 34
        }
      },
      "cell_type": "code",
      "source": [
        "x.ndim                #看看 ndim 屬性 (就是階數)\n",
        "                      #ndim 為 0, 是 0 階張量 (純量)"
      ],
      "execution_count": 16,
      "outputs": [
        {
          "output_type": "execute_result",
          "data": {
            "text/plain": [
              "0"
            ]
          },
          "metadata": {},
          "execution_count": 16
        }
      ]
    },
    {
      "metadata": {
        "id": "JS3lxZuZtrCP",
        "colab_type": "text"
      },
      "cell_type": "markdown",
      "source": [
        "## 2-2-2 向量 (1D 張量)"
      ]
    },
    {
      "metadata": {
        "id": "L0GldZ5Rtjt2",
        "colab_type": "code",
        "outputId": "e8667633-0974-4029-d742-2424b4fd88bb",
        "colab": {
          "base_uri": "https://localhost:8080/",
          "height": 34
        }
      },
      "cell_type": "code",
      "source": [
        "x = np.array([12, 3, 6, 14, 7])   #用 array() 建一個 5 維的 1 D 張量\n",
        "x                                 #看看張量的內容\n",
        "                                  #是一個含有 4 個元素 (4 維) 的 1D 張量"
      ],
      "execution_count": 17,
      "outputs": [
        {
          "output_type": "execute_result",
          "data": {
            "text/plain": [
              "array([12,  3,  6, 14,  7])"
            ]
          },
          "metadata": {},
          "execution_count": 17
        }
      ]
    },
    {
      "metadata": {
        "id": "eB6-0837scqm",
        "colab_type": "code",
        "outputId": "1b572e07-e0d5-4190-a44a-7a824bd5634d",
        "colab": {
          "base_uri": "https://localhost:8080/",
          "height": 34
        }
      },
      "cell_type": "code",
      "source": [
        "x.ndim                            #看看 ndim 屬性 (就是階數)\n",
        "                                  #ndim 為 1, 是 1 階張量 (向量)"
      ],
      "execution_count": 18,
      "outputs": [
        {
          "output_type": "execute_result",
          "data": {
            "text/plain": [
              "1"
            ]
          },
          "metadata": {},
          "execution_count": 18
        }
      ]
    },
    {
      "metadata": {
        "id": "QJFLe8dat35r",
        "colab_type": "text"
      },
      "cell_type": "markdown",
      "source": [
        "## 2-2-3 矩陣 (2D 張量)"
      ]
    },
    {
      "metadata": {
        "id": "mheFp73rt3no",
        "colab_type": "code",
        "colab": {}
      },
      "cell_type": "code",
      "source": [
        "x = np.array([[5, 78, 2, 34, 0],    #用 array() 建一個 3x5 (維) 的 2D 張量\n",
        "              [6, 79, 3, 35, 1],\n",
        "              [7, 80, 4, 36, 2]])"
      ],
      "execution_count": 19,
      "outputs": []
    },
    {
      "metadata": {
        "id": "8VmelxcVtoxx",
        "colab_type": "code",
        "outputId": "e4bbeb4a-805f-4b5a-fafa-a9ee4ea3f541",
        "colab": {
          "base_uri": "https://localhost:8080/",
          "height": 34
        }
      },
      "cell_type": "code",
      "source": [
        "x.ndim                              #看看 ndim 屬性 (就是階數)"
      ],
      "execution_count": 20,
      "outputs": [
        {
          "output_type": "execute_result",
          "data": {
            "text/plain": [
              "2"
            ]
          },
          "metadata": {},
          "execution_count": 20
        }
      ]
    },
    {
      "metadata": {
        "id": "N8qJFIhxuGT4",
        "colab_type": "text"
      },
      "cell_type": "markdown",
      "source": [
        "## 2-2-4 3D 張量和高階張量"
      ]
    },
    {
      "metadata": {
        "id": "6TZl84DWtovP",
        "colab_type": "code",
        "colab": {}
      },
      "cell_type": "code",
      "source": [
        " x = np.array([[[5, 78, 2, 34, 0],         #用 array() 建一個 3x3x5 (維) 的 3D 張量\n",
        "                [6, 79, 3, 35, 1], \n",
        "                [7, 80, 4, 36, 2]],\n",
        "               [[5, 78, 2, 34, 0],\n",
        "                [6, 79, 3, 35, 1],\n",
        "                [7, 80, 4, 36, 2]],\n",
        "               [[5, 78, 2, 34, 0],\n",
        "                [6, 79, 3, 35, 1],\n",
        "                [7, 80, 4, 36, 2]]])"
      ],
      "execution_count": 21,
      "outputs": []
    },
    {
      "metadata": {
        "id": "N5Ni8IoJtos3",
        "colab_type": "code",
        "outputId": "111a69c4-1508-4b19-af0d-bb699bcc52b5",
        "colab": {
          "base_uri": "https://localhost:8080/",
          "height": 34
        }
      },
      "cell_type": "code",
      "source": [
        "x.ndim                                     #看看 ndim 屬性 (就是階數)\n",
        "                                           #ndim 為 3, 是 3 階張量"
      ],
      "execution_count": 22,
      "outputs": [
        {
          "output_type": "execute_result",
          "data": {
            "text/plain": [
              "3"
            ]
          },
          "metadata": {},
          "execution_count": 22
        }
      ]
    },
    {
      "metadata": {
        "id": "h3JtE9aduUVO",
        "colab_type": "text"
      },
      "cell_type": "markdown",
      "source": [
        "## 2-2-5 關鍵屬性"
      ]
    },
    {
      "metadata": {
        "id": "72DclNNotoqN",
        "colab_type": "code",
        "colab": {}
      },
      "cell_type": "code",
      "source": [
        "from keras.datasets import mnist\n",
        "\n",
        "(train_images, train_labels), (test_images, test_labels) = mnist.load_data()"
      ],
      "execution_count": 23,
      "outputs": []
    },
    {
      "metadata": {
        "id": "0VYKvRU6tonq",
        "colab_type": "code",
        "outputId": "b9221bef-af2d-4bd9-e6cf-b0a53fbc304e",
        "colab": {
          "base_uri": "https://localhost:8080/",
          "height": 34
        }
      },
      "cell_type": "code",
      "source": [
        "print(train_images.ndim)\n",
        "                            #ndim 為 3, 有 3 個軸"
      ],
      "execution_count": 24,
      "outputs": [
        {
          "output_type": "stream",
          "name": "stdout",
          "text": [
            "3\n"
          ]
        }
      ]
    },
    {
      "metadata": {
        "id": "4Jlf0CottolM",
        "colab_type": "code",
        "outputId": "b340f17a-a8cb-4490-b497-f528fa8269de",
        "colab": {
          "base_uri": "https://localhost:8080/",
          "height": 34
        }
      },
      "cell_type": "code",
      "source": [
        "print(train_images.shape)\n",
        "                            #shape 為 60000x28x28 維的 3D 張量 (有 3 個元素)"
      ],
      "execution_count": 25,
      "outputs": [
        {
          "output_type": "stream",
          "name": "stdout",
          "text": [
            "(60000, 28, 28)\n"
          ]
        }
      ]
    },
    {
      "metadata": {
        "id": "_RIVEqrOtoii",
        "colab_type": "code",
        "outputId": "dcaf8224-96dc-418e-f51d-9750269834e8",
        "colab": {
          "base_uri": "https://localhost:8080/",
          "height": 34
        }
      },
      "cell_type": "code",
      "source": [
        "print(train_images.dtype)\n",
        "                            #元素的資料型別為 0~255 的整數"
      ],
      "execution_count": 26,
      "outputs": [
        {
          "output_type": "stream",
          "name": "stdout",
          "text": [
            "uint8\n"
          ]
        }
      ]
    },
    {
      "metadata": {
        "id": "aJvG8K-0u-st",
        "colab_type": "text"
      },
      "cell_type": "markdown",
      "source": [
        "### 程式 2.10 顯示第 4 個數字的圖像"
      ]
    },
    {
      "metadata": {
        "id": "1zekK0CItogH",
        "colab_type": "code",
        "outputId": "23931562-a74a-4b4f-9df5-bbbe58306585",
        "colab": {
          "base_uri": "https://localhost:8080/",
          "height": 347
        }
      },
      "cell_type": "code",
      "source": [
        "%matplotlib inline\n",
        "import matplotlib.pyplot as plt\n",
        "digit = train_images[59999]\n",
        "\n",
        "\n",
        "plt.imshow(digit)\n",
        "plt.show()"
      ],
      "execution_count": 31,
      "outputs": [
        {
          "output_type": "display_data",
          "data": {
            "text/plain": "<Figure size 432x288 with 1 Axes>",
            "image/svg+xml": "<?xml version=\"1.0\" encoding=\"utf-8\" standalone=\"no\"?>\n<!DOCTYPE svg PUBLIC \"-//W3C//DTD SVG 1.1//EN\"\n  \"http://www.w3.org/Graphics/SVG/1.1/DTD/svg11.dtd\">\n<!-- Created with matplotlib (https://matplotlib.org/) -->\n<svg height=\"248.518125pt\" version=\"1.1\" viewBox=\"0 0 251.565 248.518125\" width=\"251.565pt\" xmlns=\"http://www.w3.org/2000/svg\" xmlns:xlink=\"http://www.w3.org/1999/xlink\">\n <metadata>\n  <rdf:RDF xmlns:cc=\"http://creativecommons.org/ns#\" xmlns:dc=\"http://purl.org/dc/elements/1.1/\" xmlns:rdf=\"http://www.w3.org/1999/02/22-rdf-syntax-ns#\">\n   <cc:Work>\n    <dc:type rdf:resource=\"http://purl.org/dc/dcmitype/StillImage\"/>\n    <dc:date>2021-04-15T23:11:33.097334</dc:date>\n    <dc:format>image/svg+xml</dc:format>\n    <dc:creator>\n     <cc:Agent>\n      <dc:title>Matplotlib v3.3.4, https://matplotlib.org/</dc:title>\n     </cc:Agent>\n    </dc:creator>\n   </cc:Work>\n  </rdf:RDF>\n </metadata>\n <defs>\n  <style type=\"text/css\">*{stroke-linecap:butt;stroke-linejoin:round;}</style>\n </defs>\n <g id=\"figure_1\">\n  <g id=\"patch_1\">\n   <path d=\"M 0 248.518125 \nL 251.565 248.518125 \nL 251.565 0 \nL 0 0 \nz\n\" style=\"fill:none;\"/>\n  </g>\n  <g id=\"axes_1\">\n   <g id=\"patch_2\">\n    <path d=\"M 26.925 224.64 \nL 244.365 224.64 \nL 244.365 7.2 \nL 26.925 7.2 \nz\n\" style=\"fill:#ffffff;\"/>\n   </g>\n   <g clip-path=\"url(#p13547aaabf)\">\n    <image height=\"218\" id=\"imageb63cc22bc0\" transform=\"scale(1 -1)translate(0 -218)\" width=\"218\" x=\"26.925\" xlink:href=\"data:image/png;base64,\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\" y=\"-6.64\"/>\n   </g>\n   <g id=\"matplotlib.axis_1\">\n    <g id=\"xtick_1\">\n     <g id=\"line2d_1\">\n      <defs>\n       <path d=\"M 0 0 \nL 0 3.5 \n\" id=\"m2b786cc6c0\" style=\"stroke:#000000;stroke-width:0.8;\"/>\n      </defs>\n      <g>\n       <use style=\"stroke:#000000;stroke-width:0.8;\" x=\"30.807857\" xlink:href=\"#m2b786cc6c0\" y=\"224.64\"/>\n      </g>\n     </g>\n     <g id=\"text_1\">\n      <!-- 0 -->\n      <g transform=\"translate(27.626607 239.238437)scale(0.1 -0.1)\">\n       <defs>\n        <path d=\"M 31.78125 66.40625 \nQ 24.171875 66.40625 20.328125 58.90625 \nQ 16.5 51.421875 16.5 36.375 \nQ 16.5 21.390625 20.328125 13.890625 \nQ 24.171875 6.390625 31.78125 6.390625 \nQ 39.453125 6.390625 43.28125 13.890625 \nQ 47.125 21.390625 47.125 36.375 \nQ 47.125 51.421875 43.28125 58.90625 \nQ 39.453125 66.40625 31.78125 66.40625 \nz\nM 31.78125 74.21875 \nQ 44.046875 74.21875 50.515625 64.515625 \nQ 56.984375 54.828125 56.984375 36.375 \nQ 56.984375 17.96875 50.515625 8.265625 \nQ 44.046875 -1.421875 31.78125 -1.421875 \nQ 19.53125 -1.421875 13.0625 8.265625 \nQ 6.59375 17.96875 6.59375 36.375 \nQ 6.59375 54.828125 13.0625 64.515625 \nQ 19.53125 74.21875 31.78125 74.21875 \nz\n\" id=\"DejaVuSans-48\"/>\n       </defs>\n       <use xlink:href=\"#DejaVuSans-48\"/>\n      </g>\n     </g>\n    </g>\n    <g id=\"xtick_2\">\n     <g id=\"line2d_2\">\n      <g>\n       <use style=\"stroke:#000000;stroke-width:0.8;\" x=\"69.636429\" xlink:href=\"#m2b786cc6c0\" y=\"224.64\"/>\n      </g>\n     </g>\n     <g id=\"text_2\">\n      <!-- 5 -->\n      <g transform=\"translate(66.455179 239.238437)scale(0.1 -0.1)\">\n       <defs>\n        <path d=\"M 10.796875 72.90625 \nL 49.515625 72.90625 \nL 49.515625 64.59375 \nL 19.828125 64.59375 \nL 19.828125 46.734375 \nQ 21.96875 47.46875 24.109375 47.828125 \nQ 26.265625 48.1875 28.421875 48.1875 \nQ 40.625 48.1875 47.75 41.5 \nQ 54.890625 34.8125 54.890625 23.390625 \nQ 54.890625 11.625 47.5625 5.09375 \nQ 40.234375 -1.421875 26.90625 -1.421875 \nQ 22.3125 -1.421875 17.546875 -0.640625 \nQ 12.796875 0.140625 7.71875 1.703125 \nL 7.71875 11.625 \nQ 12.109375 9.234375 16.796875 8.0625 \nQ 21.484375 6.890625 26.703125 6.890625 \nQ 35.15625 6.890625 40.078125 11.328125 \nQ 45.015625 15.765625 45.015625 23.390625 \nQ 45.015625 31 40.078125 35.4375 \nQ 35.15625 39.890625 26.703125 39.890625 \nQ 22.75 39.890625 18.8125 39.015625 \nQ 14.890625 38.140625 10.796875 36.28125 \nz\n\" id=\"DejaVuSans-53\"/>\n       </defs>\n       <use xlink:href=\"#DejaVuSans-53\"/>\n      </g>\n     </g>\n    </g>\n    <g id=\"xtick_3\">\n     <g id=\"line2d_3\">\n      <g>\n       <use style=\"stroke:#000000;stroke-width:0.8;\" x=\"108.465\" xlink:href=\"#m2b786cc6c0\" y=\"224.64\"/>\n      </g>\n     </g>\n     <g id=\"text_3\">\n      <!-- 10 -->\n      <g transform=\"translate(102.1025 239.238437)scale(0.1 -0.1)\">\n       <defs>\n        <path d=\"M 12.40625 8.296875 \nL 28.515625 8.296875 \nL 28.515625 63.921875 \nL 10.984375 60.40625 \nL 10.984375 69.390625 \nL 28.421875 72.90625 \nL 38.28125 72.90625 \nL 38.28125 8.296875 \nL 54.390625 8.296875 \nL 54.390625 0 \nL 12.40625 0 \nz\n\" id=\"DejaVuSans-49\"/>\n       </defs>\n       <use xlink:href=\"#DejaVuSans-49\"/>\n       <use x=\"63.623047\" xlink:href=\"#DejaVuSans-48\"/>\n      </g>\n     </g>\n    </g>\n    <g id=\"xtick_4\">\n     <g id=\"line2d_4\">\n      <g>\n       <use style=\"stroke:#000000;stroke-width:0.8;\" x=\"147.293571\" xlink:href=\"#m2b786cc6c0\" y=\"224.64\"/>\n      </g>\n     </g>\n     <g id=\"text_4\">\n      <!-- 15 -->\n      <g transform=\"translate(140.931071 239.238437)scale(0.1 -0.1)\">\n       <use xlink:href=\"#DejaVuSans-49\"/>\n       <use x=\"63.623047\" xlink:href=\"#DejaVuSans-53\"/>\n      </g>\n     </g>\n    </g>\n    <g id=\"xtick_5\">\n     <g id=\"line2d_5\">\n      <g>\n       <use style=\"stroke:#000000;stroke-width:0.8;\" x=\"186.122143\" xlink:href=\"#m2b786cc6c0\" y=\"224.64\"/>\n      </g>\n     </g>\n     <g id=\"text_5\">\n      <!-- 20 -->\n      <g transform=\"translate(179.759643 239.238437)scale(0.1 -0.1)\">\n       <defs>\n        <path d=\"M 19.1875 8.296875 \nL 53.609375 8.296875 \nL 53.609375 0 \nL 7.328125 0 \nL 7.328125 8.296875 \nQ 12.9375 14.109375 22.625 23.890625 \nQ 32.328125 33.6875 34.8125 36.53125 \nQ 39.546875 41.84375 41.421875 45.53125 \nQ 43.3125 49.21875 43.3125 52.78125 \nQ 43.3125 58.59375 39.234375 62.25 \nQ 35.15625 65.921875 28.609375 65.921875 \nQ 23.96875 65.921875 18.8125 64.3125 \nQ 13.671875 62.703125 7.8125 59.421875 \nL 7.8125 69.390625 \nQ 13.765625 71.78125 18.9375 73 \nQ 24.125 74.21875 28.421875 74.21875 \nQ 39.75 74.21875 46.484375 68.546875 \nQ 53.21875 62.890625 53.21875 53.421875 \nQ 53.21875 48.921875 51.53125 44.890625 \nQ 49.859375 40.875 45.40625 35.40625 \nQ 44.1875 33.984375 37.640625 27.21875 \nQ 31.109375 20.453125 19.1875 8.296875 \nz\n\" id=\"DejaVuSans-50\"/>\n       </defs>\n       <use xlink:href=\"#DejaVuSans-50\"/>\n       <use x=\"63.623047\" xlink:href=\"#DejaVuSans-48\"/>\n      </g>\n     </g>\n    </g>\n    <g id=\"xtick_6\">\n     <g id=\"line2d_6\">\n      <g>\n       <use style=\"stroke:#000000;stroke-width:0.8;\" x=\"224.950714\" xlink:href=\"#m2b786cc6c0\" y=\"224.64\"/>\n      </g>\n     </g>\n     <g id=\"text_6\">\n      <!-- 25 -->\n      <g transform=\"translate(218.588214 239.238437)scale(0.1 -0.1)\">\n       <use xlink:href=\"#DejaVuSans-50\"/>\n       <use x=\"63.623047\" xlink:href=\"#DejaVuSans-53\"/>\n      </g>\n     </g>\n    </g>\n   </g>\n   <g id=\"matplotlib.axis_2\">\n    <g id=\"ytick_1\">\n     <g id=\"line2d_7\">\n      <defs>\n       <path d=\"M 0 0 \nL -3.5 0 \n\" id=\"mc4871a5874\" style=\"stroke:#000000;stroke-width:0.8;\"/>\n      </defs>\n      <g>\n       <use style=\"stroke:#000000;stroke-width:0.8;\" x=\"26.925\" xlink:href=\"#mc4871a5874\" y=\"11.082857\"/>\n      </g>\n     </g>\n     <g id=\"text_7\">\n      <!-- 0 -->\n      <g transform=\"translate(13.5625 14.882076)scale(0.1 -0.1)\">\n       <use xlink:href=\"#DejaVuSans-48\"/>\n      </g>\n     </g>\n    </g>\n    <g id=\"ytick_2\">\n     <g id=\"line2d_8\">\n      <g>\n       <use style=\"stroke:#000000;stroke-width:0.8;\" x=\"26.925\" xlink:href=\"#mc4871a5874\" y=\"49.911429\"/>\n      </g>\n     </g>\n     <g id=\"text_8\">\n      <!-- 5 -->\n      <g transform=\"translate(13.5625 53.710647)scale(0.1 -0.1)\">\n       <use xlink:href=\"#DejaVuSans-53\"/>\n      </g>\n     </g>\n    </g>\n    <g id=\"ytick_3\">\n     <g id=\"line2d_9\">\n      <g>\n       <use style=\"stroke:#000000;stroke-width:0.8;\" x=\"26.925\" xlink:href=\"#mc4871a5874\" y=\"88.74\"/>\n      </g>\n     </g>\n     <g id=\"text_9\">\n      <!-- 10 -->\n      <g transform=\"translate(7.2 92.539219)scale(0.1 -0.1)\">\n       <use xlink:href=\"#DejaVuSans-49\"/>\n       <use x=\"63.623047\" xlink:href=\"#DejaVuSans-48\"/>\n      </g>\n     </g>\n    </g>\n    <g id=\"ytick_4\">\n     <g id=\"line2d_10\">\n      <g>\n       <use style=\"stroke:#000000;stroke-width:0.8;\" x=\"26.925\" xlink:href=\"#mc4871a5874\" y=\"127.568571\"/>\n      </g>\n     </g>\n     <g id=\"text_10\">\n      <!-- 15 -->\n      <g transform=\"translate(7.2 131.36779)scale(0.1 -0.1)\">\n       <use xlink:href=\"#DejaVuSans-49\"/>\n       <use x=\"63.623047\" xlink:href=\"#DejaVuSans-53\"/>\n      </g>\n     </g>\n    </g>\n    <g id=\"ytick_5\">\n     <g id=\"line2d_11\">\n      <g>\n       <use style=\"stroke:#000000;stroke-width:0.8;\" x=\"26.925\" xlink:href=\"#mc4871a5874\" y=\"166.397143\"/>\n      </g>\n     </g>\n     <g id=\"text_11\">\n      <!-- 20 -->\n      <g transform=\"translate(7.2 170.196362)scale(0.1 -0.1)\">\n       <use xlink:href=\"#DejaVuSans-50\"/>\n       <use x=\"63.623047\" xlink:href=\"#DejaVuSans-48\"/>\n      </g>\n     </g>\n    </g>\n    <g id=\"ytick_6\">\n     <g id=\"line2d_12\">\n      <g>\n       <use style=\"stroke:#000000;stroke-width:0.8;\" x=\"26.925\" xlink:href=\"#mc4871a5874\" y=\"205.225714\"/>\n      </g>\n     </g>\n     <g id=\"text_12\">\n      <!-- 25 -->\n      <g transform=\"translate(7.2 209.024933)scale(0.1 -0.1)\">\n       <use xlink:href=\"#DejaVuSans-50\"/>\n       <use x=\"63.623047\" xlink:href=\"#DejaVuSans-53\"/>\n      </g>\n     </g>\n    </g>\n   </g>\n   <g id=\"patch_3\">\n    <path d=\"M 26.925 224.64 \nL 26.925 7.2 \n\" style=\"fill:none;stroke:#000000;stroke-linecap:square;stroke-linejoin:miter;stroke-width:0.8;\"/>\n   </g>\n   <g id=\"patch_4\">\n    <path d=\"M 244.365 224.64 \nL 244.365 7.2 \n\" style=\"fill:none;stroke:#000000;stroke-linecap:square;stroke-linejoin:miter;stroke-width:0.8;\"/>\n   </g>\n   <g id=\"patch_5\">\n    <path d=\"M 26.925 224.64 \nL 244.365 224.64 \n\" style=\"fill:none;stroke:#000000;stroke-linecap:square;stroke-linejoin:miter;stroke-width:0.8;\"/>\n   </g>\n   <g id=\"patch_6\">\n    <path d=\"M 26.925 7.2 \nL 244.365 7.2 \n\" style=\"fill:none;stroke:#000000;stroke-linecap:square;stroke-linejoin:miter;stroke-width:0.8;\"/>\n   </g>\n  </g>\n </g>\n <defs>\n  <clipPath id=\"p13547aaabf\">\n   <rect height=\"217.44\" width=\"217.44\" x=\"26.925\" y=\"7.2\"/>\n  </clipPath>\n </defs>\n</svg>\n",
            "image/png": "[encoded data removed]"
          },
          "metadata": {
            "needs_background": "light"
          }
        }
      ]
    },
    {
      "metadata": {
        "id": "adiZCeFXWpoY",
        "colab_type": "text"
      },
      "cell_type": "markdown",
      "source": [
        "## 2-2-6 在 Numpy 中調整張量"
      ]
    },
    {
      "metadata": {
        "id": "h2L-UqmZWxF_",
        "colab_type": "code",
        "outputId": "b325a636-1f3e-4701-daa5-95c153596dbc",
        "colab": {
          "base_uri": "https://localhost:8080/",
          "height": 34
        }
      },
      "cell_type": "code",
      "source": [
        "my_slice = train_images[10:100]  #關於切片可參考 \"Python 技術者們．實踐！一書中的 2-1 節的使用切片(Slicing) 的詳細說明\n",
        "print(my_slice.shape)"
      ],
      "execution_count": 32,
      "outputs": [
        {
          "output_type": "stream",
          "name": "stdout",
          "text": [
            "(90, 28, 28)\n"
          ]
        }
      ]
    },
    {
      "metadata": {
        "id": "4LeGUaTvWw9l",
        "colab_type": "code",
        "outputId": "0aab377d-875e-4c90-84ca-84fd8271182d",
        "colab": {
          "base_uri": "https://localhost:8080/",
          "height": 34
        }
      },
      "cell_type": "code",
      "source": [
        "my_slice = train_images[10:100, :, :]  #等同於上面的寫法\n",
        "my_slice.shape"
      ],
      "execution_count": 33,
      "outputs": [
        {
          "output_type": "execute_result",
          "data": {
            "text/plain": [
              "(90, 28, 28)"
            ]
          },
          "metadata": {},
          "execution_count": 33
        }
      ]
    },
    {
      "metadata": {
        "id": "d-iy5PfWW-3h",
        "colab_type": "code",
        "outputId": "3413d0e2-2fa8-4243-fbc9-200cb75cb398",
        "colab": {
          "base_uri": "https://localhost:8080/",
          "height": 34
        }
      },
      "cell_type": "code",
      "source": [
        "my_slice = train_images[10:100, 0:28, 0:28]  #同樣等同於上的寫法\n",
        "my_slice.shape"
      ],
      "execution_count": 34,
      "outputs": [
        {
          "output_type": "execute_result",
          "data": {
            "text/plain": [
              "(90, 28, 28)"
            ]
          },
          "metadata": {},
          "execution_count": 34
        }
      ]
    },
    {
      "metadata": {
        "id": "THOXkXIHW-16",
        "colab_type": "code",
        "colab": {}
      },
      "cell_type": "code",
      "source": [
        "my_slice = train_images[:, 14:, 14:]  #這裡的 14: 就等於是 14:28"
      ],
      "execution_count": 35,
      "outputs": []
    },
    {
      "metadata": {
        "id": "uq1TFg3gW-zT",
        "colab_type": "code",
        "colab": {}
      },
      "cell_type": "code",
      "source": [
        "my_slice = train_images[:, 7:-7, 7:-7]"
      ],
      "execution_count": 36,
      "outputs": []
    },
    {
      "metadata": {
        "id": "IUu1LtqcXoi6",
        "colab_type": "text"
      },
      "cell_type": "markdown",
      "source": [
        "## 2-2-7 資料批次 (batch) 的概念"
      ]
    },
    {
      "metadata": {
        "id": "8Dhip5ggW-wb",
        "colab_type": "code",
        "colab": {}
      },
      "cell_type": "code",
      "source": [
        "batch = train_images[:128]  #把 train_images 切片為 128 個圖像為一批 batch"
      ],
      "execution_count": 37,
      "outputs": []
    },
    {
      "metadata": {
        "id": "pRg1OTyKW-tz",
        "colab_type": "code",
        "colab": {}
      },
      "cell_type": "code",
      "source": [
        "batch = train_images[128:256]"
      ],
      "execution_count": 38,
      "outputs": []
    },
    {
      "metadata": {
        "id": "ICLO1H0lW-q7",
        "colab_type": "code",
        "colab": {}
      },
      "cell_type": "code",
      "source": [
        "# 可以修改程式的 n 值, 找到你想測試的批次量\n",
        "#batch = train_images[128 * n:128 * (n + 1)]"
      ],
      "execution_count": 35,
      "outputs": []
    },
    {
      "metadata": {
        "id": "rgEUZjCkbg-O",
        "colab_type": "text"
      },
      "cell_type": "markdown",
      "source": [
        "# 2-3 神經網路的工具：張量運算"
      ]
    },
    {
      "metadata": {
        "id": "LG8X4vgocgbI",
        "colab_type": "text"
      },
      "cell_type": "markdown",
      "source": [
        "## 2-3-1 元素間的運算"
      ]
    },
    {
      "metadata": {
        "id": "K2XK_fuQtodZ",
        "colab_type": "code",
        "colab": {}
      },
      "cell_type": "code",
      "source": [
        "def naive_relu(x):\n",
        "    assert len(x.shape) == 2   #x 是一個 2D Numpy 張量\n",
        "\n",
        "    x = x.copy()  #避免覆寫到輸入張量 mp\n",
        "    for i in range(x.shape[0]):\n",
        "        for j in range(x.shape[1]):\n",
        "            x[i, j] = max(x[i, j], 0)\n",
        "    return x"
      ],
      "execution_count": 36,
      "outputs": []
    },
    {
      "metadata": {
        "id": "xtQ24Ouwtoa8",
        "colab_type": "code",
        "colab": {}
      },
      "cell_type": "code",
      "source": [
        "def naive_add(x, y):\n",
        "    assert len(x.shape) == 2  #x 與 y 是都是 2D Numpy 張量\n",
        "    assert x.shape == y.shape\n",
        "    \n",
        "    x = x.copy()  #避免覆寫到輸入張量 mpy\n",
        "    for i in range(x.shape[0]):\n",
        "        for j in range(x.shape[1]):\n",
        "            x[i, j] += y[i, j]\n",
        "    return x"
      ],
      "execution_count": 37,
      "outputs": []
    },
    {
      "metadata": {
        "id": "fXtReEkocrn6",
        "colab_type": "code",
        "colab": {}
      },
      "cell_type": "code",
      "source": [
        "#import numpy as np\n",
        "\n",
        "#z = x + y  #元素間的相加運算\n",
        "\n",
        "#z = np.maximum(z, 0.)  #元素間的 relu 運算"
      ],
      "execution_count": 38,
      "outputs": []
    },
    {
      "metadata": {
        "id": "EWkekCucdeMH",
        "colab_type": "text"
      },
      "cell_type": "markdown",
      "source": [
        "## 2-3-2 張量擴張 (Broadcasting)"
      ]
    },
    {
      "metadata": {
        "id": "E9hhJAsZtoTn",
        "colab_type": "code",
        "colab": {}
      },
      "cell_type": "code",
      "source": [
        "def naive_add_matrix_and_vector(x, y):\n",
        "    assert len(x.shape) == 2  #x 是一個 2D Numpy 張量\n",
        "    assert len(y.shape) == 1  #y 是一個 Numpy 向量\n",
        "    assert x.shape[1] == y.shape[0]\n",
        "\n",
        "    x = x.copy()  #避免覆寫到輸入張量\n",
        "    for i in range(x.shape[0]):\n",
        "        for j in range(x.shape[1]):\n",
        "            x[i, j] += y[j]\n",
        "    return x"
      ],
      "execution_count": 39,
      "outputs": []
    },
    {
      "metadata": {
        "id": "OfQe14gwdsES",
        "colab_type": "code",
        "outputId": "851b3dc2-9cf2-4f73-ccbc-0f93ea57412b",
        "colab": {
          "base_uri": "https://localhost:8080/",
          "height": 34
        }
      },
      "cell_type": "code",
      "source": [
        "import numpy as np\n",
        "\n",
        "x = np.random.random((64, 3, 32, 10))  #x 是一個隨機張量, shape 為 (64, 3, 32, 10)\n",
        "y = np.random.random((32, 10))  #是一個隨機張量, shape 為 (32, 10)\n",
        "\n",
        "z = np.maximum(x, y)  #輸出結果 z 的 shape 就如同 x 一樣是 (64, 3, 32, 10),意思是 y 已先被擴張了\n",
        "z.shape"
      ],
      "execution_count": 40,
      "outputs": [
        {
          "output_type": "execute_result",
          "data": {
            "text/plain": [
              "(64, 3, 32, 10)"
            ]
          },
          "metadata": {},
          "execution_count": 40
        }
      ]
    },
    {
      "metadata": {
        "id": "0JVcuZdtd1N8",
        "colab_type": "text"
      },
      "cell_type": "markdown",
      "source": [
        "## 2-3-3 張量點積 (dot) 運算"
      ]
    },
    {
      "metadata": {
        "id": "b7lt13KMd4T6",
        "colab_type": "code",
        "colab": {}
      },
      "cell_type": "code",
      "source": [
        "import numpy as np\n",
        "\n",
        "#z = np.dot(x, y)  \n",
        "# x 向量與 y 向量間的點積運算"
      ],
      "execution_count": 41,
      "outputs": []
    },
    {
      "metadata": {
        "id": "jM0G99stLCgV",
        "colab_type": "code",
        "colab": {}
      },
      "cell_type": "code",
      "source": [
        "def naive_vector_dot(x, y):\n",
        "    assert len(x.shape) == 1\n",
        "    assert len(y.shape) == 1  # x 與 y 是 Numpy 向量\n",
        "    assert x.shape[0] == y.shape[0]\n",
        "    z = 0.\n",
        "    for i in range(x.shape[0]):\n",
        "        z += x[i] * y[i]  # 就是x[0]*y[0] + x[1]*y[1] + x[2]*y[2] + x[3]*y[3]….\n",
        "    return z"
      ],
      "execution_count": 42,
      "outputs": []
    },
    {
      "metadata": {
        "id": "-f6XmXAdLCcF",
        "colab_type": "code",
        "colab": {}
      },
      "cell_type": "code",
      "source": [
        "import numpy as np\n",
        "\n",
        "def naive_matrix_vector_dot(x, y):\n",
        "    assert len(x.shape) == 2\n",
        "    assert len(y.shape) == 1\n",
        "    assert x.shape[1] == y.shape[0]\n",
        "\n",
        "    z = np.zeros(x.shape[0])        # z為與 x 第0軸形狀一樣, 數值為 0 的向量\n",
        "    for i in range(x.shape[0]):\n",
        "        for j in range(x.shape[1]):\n",
        "            z[i] += x[i, j] * y[j]               # z 的各元素值已被內層 for loop 填入了\n",
        "    return z"
      ],
      "execution_count": 43,
      "outputs": []
    },
    {
      "metadata": {
        "id": "NWdmN8RxLCWT",
        "colab_type": "code",
        "colab": {}
      },
      "cell_type": "code",
      "source": [
        "def naive_matrix_vector_dot(x, y):      #這是一個矩陣-向量的 dot\n",
        "    z = np.zeros(x.shape[0])\n",
        "    for i in range(x.shape[0]):\n",
        "        z[i] = naive_vector_dot(x[i, :], y)        #內部包著一個向量-向量的 dot\n",
        "    return z"
      ],
      "execution_count": 44,
      "outputs": []
    },
    {
      "metadata": {
        "id": "TuRioBZvOxAl",
        "colab_type": "code",
        "colab": {}
      },
      "cell_type": "code",
      "source": [
        "def naive_matrix_dot(x, y):\n",
        "    assert len(x.shape) == 2\n",
        "    assert len(y.shape) == 2\n",
        "    assert x.shape[1] == y.shape[0]    # x 與 y 是 Numpy 矩陣, x 的第 1 維的數量必須與 y 第 0 維的數量相等\n",
        "\n",
        "    z = np.zeros((x.shape[0], y.shape[1]))       #這裡會回數值為 0 的矩陣\n",
        "    for i in range(x.shape[0]):\n",
        "        for j in range(y.shape[1]):    #重複計算 x 各列數值與 y 各行數值\n",
        "            row_x = x[i, :]\n",
        "            column_y = y[:, j]\n",
        "            z[i, j] = naive_vector_dot(row_x, column_y)\n",
        "    return z"
      ],
      "execution_count": 45,
      "outputs": []
    },
    {
      "metadata": {
        "id": "FDYwhM6V29Sm",
        "colab_type": "text"
      },
      "cell_type": "markdown",
      "source": [
        "## 2-3-4 張量重塑"
      ]
    },
    {
      "metadata": {
        "id": "V3Aypogn3L45",
        "colab_type": "code",
        "colab": {}
      },
      "cell_type": "code",
      "source": [
        "from keras.datasets import mnist\n",
        "(train_images, train_labels), (test_images, test_labels) = mnist.load_data()"
      ],
      "execution_count": 46,
      "outputs": []
    },
    {
      "metadata": {
        "id": "QmHwn_6gfCPf",
        "colab_type": "code",
        "colab": {}
      },
      "cell_type": "code",
      "source": [
        "train_images = train_images.reshape((60000, 28 * 28))"
      ],
      "execution_count": 47,
      "outputs": []
    },
    {
      "metadata": {
        "id": "o0FZCzMQfCM0",
        "colab_type": "code",
        "outputId": "95a28e00-8160-41a5-ada3-439ddcf3e7fc",
        "colab": {
          "base_uri": "https://localhost:8080/",
          "height": 34
        }
      },
      "cell_type": "code",
      "source": [
        "x = np.array([[0., 1.], #產生一個 3x2 的張量\n",
        "              [2., 3.],\n",
        "              [4., 5.]])\n",
        "print(x.shape)"
      ],
      "execution_count": 48,
      "outputs": [
        {
          "output_type": "stream",
          "name": "stdout",
          "text": [
            "(3, 2)\n"
          ]
        }
      ]
    },
    {
      "metadata": {
        "id": "_H6tyfwEfCKK",
        "colab_type": "code",
        "outputId": "8945228b-bd99-4149-ed87-bbad20ca6d01",
        "colab": {
          "base_uri": "https://localhost:8080/",
          "height": 119
        }
      },
      "cell_type": "code",
      "source": [
        "x = x.reshape((6, 1))  #reshape 成 6x1\n",
        "x"
      ],
      "execution_count": 49,
      "outputs": [
        {
          "output_type": "execute_result",
          "data": {
            "text/plain": [
              "array([[0.],\n",
              "       [1.],\n",
              "       [2.],\n",
              "       [3.],\n",
              "       [4.],\n",
              "       [5.]])"
            ]
          },
          "metadata": {},
          "execution_count": 49
        }
      ]
    },
    {
      "metadata": {
        "id": "z9AQmPiofCHa",
        "colab_type": "code",
        "outputId": "3baf97cc-506b-4018-f3f0-c64a0f7700cb",
        "colab": {
          "base_uri": "https://localhost:8080/",
          "height": 51
        }
      },
      "cell_type": "code",
      "source": [
        "x = x.reshape((2, 3))  #再 reshape 成 2x3\n",
        "x"
      ],
      "execution_count": 50,
      "outputs": [
        {
          "output_type": "execute_result",
          "data": {
            "text/plain": [
              "array([[0., 1., 2.],\n",
              "       [3., 4., 5.]])"
            ]
          },
          "metadata": {},
          "execution_count": 50
        }
      ]
    },
    {
      "metadata": {
        "id": "CjGo1j35354V",
        "colab_type": "code",
        "outputId": "90c0968c-cf21-483c-e5c4-7366dbcfeb3c",
        "colab": {
          "base_uri": "https://localhost:8080/",
          "height": 34
        }
      },
      "cell_type": "code",
      "source": [
        "x = np.zeros((300, 20))  #創建一個數值全為 0, 形狀為 (300, 20) 的矩陣\n",
        "x = np.transpose(x)\n",
        "print(x.shape)"
      ],
      "execution_count": 51,
      "outputs": [
        {
          "output_type": "stream",
          "name": "stdout",
          "text": [
            "(20, 300)\n"
          ]
        }
      ]
    },
    {
      "metadata": {
        "id": "XFFEYEkjTHlV",
        "colab_type": "text"
      },
      "cell_type": "markdown",
      "source": [
        "# 2-5 回顧我們的第一個例子"
      ]
    },
    {
      "metadata": {
        "id": "aBlsJ8IyTQsS",
        "colab_type": "code",
        "colab": {}
      },
      "cell_type": "code",
      "source": [
        "import keras\n",
        "from keras import models\n",
        "from keras import layers\n",
        "keras.__version__\n",
        "\n",
        "from keras.datasets import mnist"
      ],
      "execution_count": 52,
      "outputs": []
    },
    {
      "metadata": {
        "id": "lqnYMWhaTIOj",
        "colab_type": "code",
        "colab": {}
      },
      "cell_type": "code",
      "source": [
        "(train_images, train_labels), (test_images, test_labels) = mnist.load_data()\n",
        "\n",
        "train_images = train_images.reshape((60000, 28 * 28))\n",
        "train_images = train_images.astype('float32') / 255\n",
        "\n",
        "test_images = test_images.reshape((10000, 28 * 28))\n",
        "test_images = test_images.astype('float32') / 255"
      ],
      "execution_count": 53,
      "outputs": []
    },
    {
      "metadata": {
        "id": "BEmQUC9OTXBq",
        "colab_type": "code",
        "colab": {}
      },
      "cell_type": "code",
      "source": [
        "network = models.Sequential()\n",
        "network.add(layers.Dense(512, activation='relu', input_shape=(28 * 28,)))\n",
        "network.add(layers.Dense(10, activation='softmax'))"
      ],
      "execution_count": 54,
      "outputs": []
    },
    {
      "metadata": {
        "id": "P33REIwkThCC",
        "colab_type": "code",
        "colab": {}
      },
      "cell_type": "code",
      "source": [
        "network.compile(optimizer='rmsprop',\n",
        "                loss='categorical_crossentropy',\n",
        "                metrics=['accuracy'])"
      ],
      "execution_count": 55,
      "outputs": []
    },
    {
      "metadata": {
        "id": "ukFnrf_gheh4",
        "colab_type": "code",
        "colab": {}
      },
      "cell_type": "code",
      "source": [
        "#network.fit(train_images, train_labels, epochs=5, batch_size=128)"
      ],
      "execution_count": 56,
      "outputs": []
    }
  ]
}